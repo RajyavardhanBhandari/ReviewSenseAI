{
 "cells": [
  {
   "cell_type": "code",
   "execution_count": 2,
   "metadata": {},
   "outputs": [
    {
     "name": "stdout",
     "output_type": "stream",
     "text": [
      "Requirement already satisfied: streamlit in c:\\users\\parth\\onedrive\\desktop\\updated_code\\vibehunt\\lib\\site-packages (1.39.0)\n",
      "Requirement already satisfied: opencv-python in c:\\users\\parth\\onedrive\\desktop\\updated_code\\vibehunt\\lib\\site-packages (4.10.0.84)\n",
      "Requirement already satisfied: google-auth in c:\\users\\parth\\onedrive\\desktop\\updated_code\\vibehunt\\lib\\site-packages (2.35.0)\n",
      "Requirement already satisfied: google-auth-oauthlib in c:\\users\\parth\\onedrive\\desktop\\updated_code\\vibehunt\\lib\\site-packages (1.2.1)\n",
      "Requirement already satisfied: google-auth-httplib2 in c:\\users\\parth\\onedrive\\desktop\\updated_code\\vibehunt\\lib\\site-packages (0.2.0)\n",
      "Requirement already satisfied: google-api-python-client in c:\\users\\parth\\onedrive\\desktop\\updated_code\\vibehunt\\lib\\site-packages (2.148.0)\n",
      "Requirement already satisfied: altair<6,>=4.0 in c:\\users\\parth\\onedrive\\desktop\\updated_code\\vibehunt\\lib\\site-packages (from streamlit) (5.4.1)\n",
      "Requirement already satisfied: blinker<2,>=1.0.0 in c:\\users\\parth\\onedrive\\desktop\\updated_code\\vibehunt\\lib\\site-packages (from streamlit) (1.8.2)\n",
      "Requirement already satisfied: cachetools<6,>=4.0 in c:\\users\\parth\\onedrive\\desktop\\updated_code\\vibehunt\\lib\\site-packages (from streamlit) (5.5.0)\n",
      "Requirement already satisfied: click<9,>=7.0 in c:\\users\\parth\\onedrive\\desktop\\updated_code\\vibehunt\\lib\\site-packages (from streamlit) (8.1.7)\n",
      "Requirement already satisfied: numpy<3,>=1.20 in c:\\users\\parth\\onedrive\\desktop\\updated_code\\vibehunt\\lib\\site-packages (from streamlit) (2.1.2)\n",
      "Requirement already satisfied: packaging<25,>=20 in c:\\users\\parth\\onedrive\\desktop\\updated_code\\vibehunt\\lib\\site-packages (from streamlit) (24.1)\n",
      "Requirement already satisfied: pandas<3,>=1.4.0 in c:\\users\\parth\\onedrive\\desktop\\updated_code\\vibehunt\\lib\\site-packages (from streamlit) (2.2.3)\n",
      "Requirement already satisfied: pillow<11,>=7.1.0 in c:\\users\\parth\\onedrive\\desktop\\updated_code\\vibehunt\\lib\\site-packages (from streamlit) (10.4.0)\n",
      "Requirement already satisfied: protobuf<6,>=3.20 in c:\\users\\parth\\onedrive\\desktop\\updated_code\\vibehunt\\lib\\site-packages (from streamlit) (5.28.2)\n",
      "Requirement already satisfied: pyarrow>=7.0 in c:\\users\\parth\\onedrive\\desktop\\updated_code\\vibehunt\\lib\\site-packages (from streamlit) (17.0.0)\n",
      "Requirement already satisfied: requests<3,>=2.27 in c:\\users\\parth\\onedrive\\desktop\\updated_code\\vibehunt\\lib\\site-packages (from streamlit) (2.32.3)\n",
      "Requirement already satisfied: rich<14,>=10.14.0 in c:\\users\\parth\\onedrive\\desktop\\updated_code\\vibehunt\\lib\\site-packages (from streamlit) (13.9.2)\n",
      "Requirement already satisfied: tenacity<10,>=8.1.0 in c:\\users\\parth\\onedrive\\desktop\\updated_code\\vibehunt\\lib\\site-packages (from streamlit) (9.0.0)\n",
      "Requirement already satisfied: toml<2,>=0.10.1 in c:\\users\\parth\\onedrive\\desktop\\updated_code\\vibehunt\\lib\\site-packages (from streamlit) (0.10.2)\n",
      "Requirement already satisfied: typing-extensions<5,>=4.3.0 in c:\\users\\parth\\onedrive\\desktop\\updated_code\\vibehunt\\lib\\site-packages (from streamlit) (4.12.2)\n",
      "Requirement already satisfied: gitpython!=3.1.19,<4,>=3.0.7 in c:\\users\\parth\\onedrive\\desktop\\updated_code\\vibehunt\\lib\\site-packages (from streamlit) (3.1.43)\n",
      "Requirement already satisfied: pydeck<1,>=0.8.0b4 in c:\\users\\parth\\onedrive\\desktop\\updated_code\\vibehunt\\lib\\site-packages (from streamlit) (0.9.1)\n",
      "Requirement already satisfied: tornado<7,>=6.0.3 in c:\\users\\parth\\onedrive\\desktop\\updated_code\\vibehunt\\lib\\site-packages (from streamlit) (6.4.1)\n",
      "Requirement already satisfied: watchdog<6,>=2.1.5 in c:\\users\\parth\\onedrive\\desktop\\updated_code\\vibehunt\\lib\\site-packages (from streamlit) (5.0.3)\n",
      "Requirement already satisfied: pyasn1-modules>=0.2.1 in c:\\users\\parth\\onedrive\\desktop\\updated_code\\vibehunt\\lib\\site-packages (from google-auth) (0.4.1)\n",
      "Requirement already satisfied: rsa<5,>=3.1.4 in c:\\users\\parth\\onedrive\\desktop\\updated_code\\vibehunt\\lib\\site-packages (from google-auth) (4.9)\n",
      "Requirement already satisfied: requests-oauthlib>=0.7.0 in c:\\users\\parth\\onedrive\\desktop\\updated_code\\vibehunt\\lib\\site-packages (from google-auth-oauthlib) (2.0.0)\n",
      "Requirement already satisfied: httplib2>=0.19.0 in c:\\users\\parth\\onedrive\\desktop\\updated_code\\vibehunt\\lib\\site-packages (from google-auth-httplib2) (0.22.0)\n",
      "Requirement already satisfied: google-api-core!=2.0.*,!=2.1.*,!=2.2.*,!=2.3.0,<3.0.0.dev0,>=1.31.5 in c:\\users\\parth\\onedrive\\desktop\\updated_code\\vibehunt\\lib\\site-packages (from google-api-python-client) (2.21.0)\n",
      "Requirement already satisfied: uritemplate<5,>=3.0.1 in c:\\users\\parth\\onedrive\\desktop\\updated_code\\vibehunt\\lib\\site-packages (from google-api-python-client) (4.1.1)\n",
      "Requirement already satisfied: jinja2 in c:\\users\\parth\\onedrive\\desktop\\updated_code\\vibehunt\\lib\\site-packages (from altair<6,>=4.0->streamlit) (3.1.4)\n",
      "Requirement already satisfied: jsonschema>=3.0 in c:\\users\\parth\\onedrive\\desktop\\updated_code\\vibehunt\\lib\\site-packages (from altair<6,>=4.0->streamlit) (4.23.0)\n",
      "Requirement already satisfied: narwhals>=1.5.2 in c:\\users\\parth\\onedrive\\desktop\\updated_code\\vibehunt\\lib\\site-packages (from altair<6,>=4.0->streamlit) (1.9.2)\n",
      "Requirement already satisfied: colorama in c:\\users\\parth\\onedrive\\desktop\\updated_code\\vibehunt\\lib\\site-packages (from click<9,>=7.0->streamlit) (0.4.6)\n",
      "Requirement already satisfied: gitdb<5,>=4.0.1 in c:\\users\\parth\\onedrive\\desktop\\updated_code\\vibehunt\\lib\\site-packages (from gitpython!=3.1.19,<4,>=3.0.7->streamlit) (4.0.11)\n",
      "Requirement already satisfied: googleapis-common-protos<2.0.dev0,>=1.56.2 in c:\\users\\parth\\onedrive\\desktop\\updated_code\\vibehunt\\lib\\site-packages (from google-api-core!=2.0.*,!=2.1.*,!=2.2.*,!=2.3.0,<3.0.0.dev0,>=1.31.5->google-api-python-client) (1.65.0)\n",
      "Requirement already satisfied: proto-plus<2.0.0dev,>=1.22.3 in c:\\users\\parth\\onedrive\\desktop\\updated_code\\vibehunt\\lib\\site-packages (from google-api-core!=2.0.*,!=2.1.*,!=2.2.*,!=2.3.0,<3.0.0.dev0,>=1.31.5->google-api-python-client) (1.24.0)\n",
      "Requirement already satisfied: pyparsing!=3.0.0,!=3.0.1,!=3.0.2,!=3.0.3,<4,>=2.4.2 in c:\\users\\parth\\onedrive\\desktop\\updated_code\\vibehunt\\lib\\site-packages (from httplib2>=0.19.0->google-auth-httplib2) (3.1.4)\n",
      "Requirement already satisfied: python-dateutil>=2.8.2 in c:\\users\\parth\\onedrive\\desktop\\updated_code\\vibehunt\\lib\\site-packages (from pandas<3,>=1.4.0->streamlit) (2.9.0.post0)\n",
      "Requirement already satisfied: pytz>=2020.1 in c:\\users\\parth\\onedrive\\desktop\\updated_code\\vibehunt\\lib\\site-packages (from pandas<3,>=1.4.0->streamlit) (2024.2)\n",
      "Requirement already satisfied: tzdata>=2022.7 in c:\\users\\parth\\onedrive\\desktop\\updated_code\\vibehunt\\lib\\site-packages (from pandas<3,>=1.4.0->streamlit) (2024.2)\n",
      "Requirement already satisfied: pyasn1<0.7.0,>=0.4.6 in c:\\users\\parth\\onedrive\\desktop\\updated_code\\vibehunt\\lib\\site-packages (from pyasn1-modules>=0.2.1->google-auth) (0.6.1)\n",
      "Requirement already satisfied: charset-normalizer<4,>=2 in c:\\users\\parth\\onedrive\\desktop\\updated_code\\vibehunt\\lib\\site-packages (from requests<3,>=2.27->streamlit) (3.4.0)\n",
      "Requirement already satisfied: idna<4,>=2.5 in c:\\users\\parth\\onedrive\\desktop\\updated_code\\vibehunt\\lib\\site-packages (from requests<3,>=2.27->streamlit) (3.10)\n",
      "Requirement already satisfied: urllib3<3,>=1.21.1 in c:\\users\\parth\\onedrive\\desktop\\updated_code\\vibehunt\\lib\\site-packages (from requests<3,>=2.27->streamlit) (2.2.3)\n",
      "Requirement already satisfied: certifi>=2017.4.17 in c:\\users\\parth\\onedrive\\desktop\\updated_code\\vibehunt\\lib\\site-packages (from requests<3,>=2.27->streamlit) (2024.8.30)\n",
      "Requirement already satisfied: oauthlib>=3.0.0 in c:\\users\\parth\\onedrive\\desktop\\updated_code\\vibehunt\\lib\\site-packages (from requests-oauthlib>=0.7.0->google-auth-oauthlib) (3.2.2)\n",
      "Requirement already satisfied: markdown-it-py>=2.2.0 in c:\\users\\parth\\onedrive\\desktop\\updated_code\\vibehunt\\lib\\site-packages (from rich<14,>=10.14.0->streamlit) (3.0.0)\n",
      "Requirement already satisfied: pygments<3.0.0,>=2.13.0 in c:\\users\\parth\\onedrive\\desktop\\updated_code\\vibehunt\\lib\\site-packages (from rich<14,>=10.14.0->streamlit) (2.18.0)\n",
      "Requirement already satisfied: smmap<6,>=3.0.1 in c:\\users\\parth\\onedrive\\desktop\\updated_code\\vibehunt\\lib\\site-packages (from gitdb<5,>=4.0.1->gitpython!=3.1.19,<4,>=3.0.7->streamlit) (5.0.1)\n",
      "Requirement already satisfied: MarkupSafe>=2.0 in c:\\users\\parth\\onedrive\\desktop\\updated_code\\vibehunt\\lib\\site-packages (from jinja2->altair<6,>=4.0->streamlit) (3.0.1)\n",
      "Requirement already satisfied: attrs>=22.2.0 in c:\\users\\parth\\onedrive\\desktop\\updated_code\\vibehunt\\lib\\site-packages (from jsonschema>=3.0->altair<6,>=4.0->streamlit) (24.2.0)\n",
      "Requirement already satisfied: jsonschema-specifications>=2023.03.6 in c:\\users\\parth\\onedrive\\desktop\\updated_code\\vibehunt\\lib\\site-packages (from jsonschema>=3.0->altair<6,>=4.0->streamlit) (2024.10.1)\n",
      "Requirement already satisfied: referencing>=0.28.4 in c:\\users\\parth\\onedrive\\desktop\\updated_code\\vibehunt\\lib\\site-packages (from jsonschema>=3.0->altair<6,>=4.0->streamlit) (0.35.1)\n",
      "Requirement already satisfied: rpds-py>=0.7.1 in c:\\users\\parth\\onedrive\\desktop\\updated_code\\vibehunt\\lib\\site-packages (from jsonschema>=3.0->altair<6,>=4.0->streamlit) (0.20.0)\n",
      "Requirement already satisfied: mdurl~=0.1 in c:\\users\\parth\\onedrive\\desktop\\updated_code\\vibehunt\\lib\\site-packages (from markdown-it-py>=2.2.0->rich<14,>=10.14.0->streamlit) (0.1.2)\n",
      "Requirement already satisfied: six>=1.5 in c:\\users\\parth\\onedrive\\desktop\\updated_code\\vibehunt\\lib\\site-packages (from python-dateutil>=2.8.2->pandas<3,>=1.4.0->streamlit) (1.16.0)\n",
      "Note: you may need to restart the kernel to use updated packages.\n"
     ]
    },
    {
     "name": "stderr",
     "output_type": "stream",
     "text": [
      "\n",
      "[notice] A new release of pip is available: 24.0 -> 24.2\n",
      "[notice] To update, run: python.exe -m pip install --upgrade pip\n"
     ]
    }
   ],
   "source": [
    "%pip install streamlit opencv-python google-auth google-auth-oauthlib google-auth-httplib2 google-api-python-client\n"
   ]
  },
  {
   "cell_type": "code",
   "execution_count": 2,
   "metadata": {},
   "outputs": [],
   "source": [
    "import cv2\n",
    "\n",
    "v = cv2.VideoCapture(0)\n",
    "fourcc = cv2.VideoWriter_fourcc(*'XVID')\n",
    "out = cv2.VideoWriter('a.avi',fourcc,30,(640,480))\n",
    "while 1:\n",
    "    c,f = v.read()\n",
    "    f = cv2.flip(f,1)\n",
    "    out.write(f)\n",
    "    cv2.imshow('1',f)\n",
    "\n",
    "    if cv2.waitKey(1) == ord('q'):\n",
    "        break\n",
    "\n",
    "v.release()\n",
    "out.release()\n",
    "cv2.destroyAllWindows()"
   ]
  },
  {
   "cell_type": "code",
   "execution_count": 3,
   "metadata": {},
   "outputs": [
    {
     "name": "stdout",
     "output_type": "stream",
     "text": [
      "Collecting flask\n",
      "  Downloading flask-3.0.3-py3-none-any.whl.metadata (3.2 kB)\n",
      "Collecting Werkzeug>=3.0.0 (from flask)\n",
      "  Downloading werkzeug-3.0.4-py3-none-any.whl.metadata (3.7 kB)\n",
      "Requirement already satisfied: Jinja2>=3.1.2 in c:\\users\\parth\\onedrive\\desktop\\updated_code\\vibehunt\\lib\\site-packages (from flask) (3.1.4)\n",
      "Collecting itsdangerous>=2.1.2 (from flask)\n",
      "  Downloading itsdangerous-2.2.0-py3-none-any.whl.metadata (1.9 kB)\n",
      "Requirement already satisfied: click>=8.1.3 in c:\\users\\parth\\onedrive\\desktop\\updated_code\\vibehunt\\lib\\site-packages (from flask) (8.1.7)\n",
      "Requirement already satisfied: blinker>=1.6.2 in c:\\users\\parth\\onedrive\\desktop\\updated_code\\vibehunt\\lib\\site-packages (from flask) (1.8.2)\n",
      "Requirement already satisfied: colorama in c:\\users\\parth\\onedrive\\desktop\\updated_code\\vibehunt\\lib\\site-packages (from click>=8.1.3->flask) (0.4.6)\n",
      "Requirement already satisfied: MarkupSafe>=2.0 in c:\\users\\parth\\onedrive\\desktop\\updated_code\\vibehunt\\lib\\site-packages (from Jinja2>=3.1.2->flask) (3.0.1)\n",
      "Downloading flask-3.0.3-py3-none-any.whl (101 kB)\n",
      "   ---------------------------------------- 0.0/101.7 kB ? eta -:--:--\n",
      "   ------------ --------------------------- 30.7/101.7 kB 1.3 MB/s eta 0:00:01\n",
      "   ---------------------------------------- 101.7/101.7 kB 1.9 MB/s eta 0:00:00\n",
      "Downloading itsdangerous-2.2.0-py3-none-any.whl (16 kB)\n",
      "Downloading werkzeug-3.0.4-py3-none-any.whl (227 kB)\n",
      "   ---------------------------------------- 0.0/227.6 kB ? eta -:--:--\n",
      "   ---------------------------------------  225.3/227.6 kB 6.9 MB/s eta 0:00:01\n",
      "   ---------------------------------------- 227.6/227.6 kB 4.6 MB/s eta 0:00:00\n",
      "Installing collected packages: Werkzeug, itsdangerous, flask\n",
      "Successfully installed Werkzeug-3.0.4 flask-3.0.3 itsdangerous-2.2.0\n",
      "Note: you may need to restart the kernel to use updated packages.\n"
     ]
    },
    {
     "name": "stderr",
     "output_type": "stream",
     "text": [
      "\n",
      "[notice] A new release of pip is available: 24.0 -> 24.2\n",
      "[notice] To update, run: python.exe -m pip install --upgrade pip\n"
     ]
    }
   ],
   "source": [
    "%pip install flask"
   ]
  },
  {
   "cell_type": "code",
   "execution_count": 4,
   "metadata": {},
   "outputs": [
    {
     "name": "stdout",
     "output_type": "stream",
     "text": [
      "Collecting flask_corsNote: you may need to restart the kernel to use updated packages.\n"
     ]
    },
    {
     "name": "stderr",
     "output_type": "stream",
     "text": [
      "\n",
      "[notice] A new release of pip is available: 24.0 -> 24.2\n",
      "[notice] To update, run: python.exe -m pip install --upgrade pip\n"
     ]
    },
    {
     "name": "stdout",
     "output_type": "stream",
     "text": [
      "\n",
      "  Downloading Flask_Cors-5.0.0-py2.py3-none-any.whl.metadata (5.5 kB)\n",
      "Requirement already satisfied: Flask>=0.9 in c:\\users\\parth\\onedrive\\desktop\\updated_code\\vibehunt\\lib\\site-packages (from flask_cors) (3.0.3)\n",
      "Requirement already satisfied: Werkzeug>=3.0.0 in c:\\users\\parth\\onedrive\\desktop\\updated_code\\vibehunt\\lib\\site-packages (from Flask>=0.9->flask_cors) (3.0.4)\n",
      "Requirement already satisfied: Jinja2>=3.1.2 in c:\\users\\parth\\onedrive\\desktop\\updated_code\\vibehunt\\lib\\site-packages (from Flask>=0.9->flask_cors) (3.1.4)\n",
      "Requirement already satisfied: itsdangerous>=2.1.2 in c:\\users\\parth\\onedrive\\desktop\\updated_code\\vibehunt\\lib\\site-packages (from Flask>=0.9->flask_cors) (2.2.0)\n",
      "Requirement already satisfied: click>=8.1.3 in c:\\users\\parth\\onedrive\\desktop\\updated_code\\vibehunt\\lib\\site-packages (from Flask>=0.9->flask_cors) (8.1.7)\n",
      "Requirement already satisfied: blinker>=1.6.2 in c:\\users\\parth\\onedrive\\desktop\\updated_code\\vibehunt\\lib\\site-packages (from Flask>=0.9->flask_cors) (1.8.2)\n",
      "Requirement already satisfied: colorama in c:\\users\\parth\\onedrive\\desktop\\updated_code\\vibehunt\\lib\\site-packages (from click>=8.1.3->Flask>=0.9->flask_cors) (0.4.6)\n",
      "Requirement already satisfied: MarkupSafe>=2.0 in c:\\users\\parth\\onedrive\\desktop\\updated_code\\vibehunt\\lib\\site-packages (from Jinja2>=3.1.2->Flask>=0.9->flask_cors) (3.0.1)\n",
      "Downloading Flask_Cors-5.0.0-py2.py3-none-any.whl (14 kB)\n",
      "Installing collected packages: flask_cors\n",
      "Successfully installed flask_cors-5.0.0\n"
     ]
    }
   ],
   "source": [
    "%pip install flask_cors"
   ]
  }
 ],
 "metadata": {
  "kernelspec": {
   "display_name": "vibehunt",
   "language": "python",
   "name": "python3"
  },
  "language_info": {
   "codemirror_mode": {
    "name": "ipython",
    "version": 3
   },
   "file_extension": ".py",
   "mimetype": "text/x-python",
   "name": "python",
   "nbconvert_exporter": "python",
   "pygments_lexer": "ipython3",
   "version": "3.12.4"
  }
 },
 "nbformat": 4,
 "nbformat_minor": 2
}
